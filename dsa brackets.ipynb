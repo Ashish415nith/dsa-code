{
 "cells": [
  {
   "cell_type": "code",
   "execution_count": 10,
   "metadata": {},
   "outputs": [
    {
     "name": "stdout",
     "output_type": "stream",
     "text": [
      "success\n"
     ]
    }
   ],
   "source": [
    "i=0\n",
    "def BalancedBrackets(Str):\n",
    "    stack = []\n",
    "    global i\n",
    "    for char in Str: \n",
    "        i+=1\n",
    "        if char == '{' or char == '(' or char == '[':\n",
    "            stack.append(char) \n",
    "        \n",
    "        elif char == '}' or char == ')' or char == ']':\n",
    "            if len(stack) == 0:\n",
    "                return False\n",
    "            top_element = stack.pop() \n",
    "            if not Compare(top_element, char):\n",
    "                return False\n",
    "        else:\n",
    "            continue\n",
    "            \n",
    "    if len(stack) != 0:\n",
    "        return False\n",
    "              \n",
    "    return True\n",
    "\n",
    "def Compare(opening, closing):\n",
    "    if opening == '(' and closing == ')':\n",
    "        return True\n",
    "    if opening == '[' and closing == ']':\n",
    "        return True\n",
    "    if opening == '{' and closing == '}':\n",
    "        return True  \n",
    "    return False\n",
    "\n",
    "\n",
    "\n",
    "    \n",
    "    \n",
    "\n",
    "if __name__ == \"__main__\" :  \n",
    "    str = \"foo()\";\n",
    "    if (BalancedBrackets(str)):\n",
    "        print(\"success\")\n",
    "    else:\n",
    "        print(i)"
   ]
  },
  {
   "cell_type": "code",
   "execution_count": null,
   "metadata": {},
   "outputs": [],
   "source": []
  }
 ],
 "metadata": {
  "kernelspec": {
   "display_name": "Python 3",
   "language": "python",
   "name": "python3"
  },
  "language_info": {
   "codemirror_mode": {
    "name": "ipython",
    "version": 3
   },
   "file_extension": ".py",
   "mimetype": "text/x-python",
   "name": "python",
   "nbconvert_exporter": "python",
   "pygments_lexer": "ipython3",
   "version": "3.7.7"
  }
 },
 "nbformat": 4,
 "nbformat_minor": 4
}
